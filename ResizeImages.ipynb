{
 "cells": [
  {
   "cell_type": "markdown",
   "id": "69ae1e8c",
   "metadata": {},
   "source": [
    "# Deep Learning Classification on Chest X-ray Images with CNN, ResNet parallelized on Multi-GPUs"
   ]
  },
  {
   "cell_type": "markdown",
   "id": "4c8581e2",
   "metadata": {},
   "source": [
    "## Part 1: Data Preprocessing\n",
    "Before we apply our CNN and ResNet models, we should make the images to the same size and same suffix. This part is mainly about image preprocessing.\n",
    "### 1.1 Resize all the image size to 128x128"
   ]
  },
  {
   "cell_type": "code",
   "execution_count": 1,
   "id": "651ac400",
   "metadata": {},
   "outputs": [],
   "source": [
    "from PIL import Image\n",
    "import os.path\n",
    "import glob\n",
    "\n",
    "def convertjpeg(file,outdir,width = 128,height = 128):\n",
    "    img=Image.open(file)\n",
    "    try:\n",
    "        new_img = img.resize((width, height), Image.BILINEAR)\n",
    "        if new_img.mode == 'P':\n",
    "            new_img = new_img.convert(\"RGB\")\n",
    "        if new_img.mode == 'RGBA':\n",
    "            new_img = new_img.convert(\"RGB\")\n",
    "        new_img.save(os.path.join(outdir, os.path.basename(file)))\n",
    "    except Exception as e:\n",
    "        print(e)\n",
    "\n",
    "\n",
    "input_paths = [r\"E:\\NEU\\Courses\\22Spring\\CSYE7105_Parallel ML and AI\\Final Project\\dataset\\test\\NORMAL\\*.jpeg\",\n",
    "         r\"E:\\NEU\\Courses\\22Spring\\CSYE7105_Parallel ML and AI\\Final Project\\dataset\\test\\PNEUMONIA\\*.jpeg\",\n",
    "         r\"E:\\NEU\\Courses\\22Spring\\CSYE7105_Parallel ML and AI\\Final Project\\dataset\\train\\PNEUMONIA\\*.jpeg\",\n",
    "         r\"E:\\NEU\\Courses\\22Spring\\CSYE7105_Parallel ML and AI\\Final Project\\dataset\\train\\NORMAL\\*.jpeg\"]\n",
    "\n",
    "output_paths = [r\"E:\\NEU\\Courses\\22Spring\\CSYE7105_Parallel ML and AI\\Final Project\\cleaned_data\\test\\NORMAL\",\n",
    "                r\"E:\\NEU\\Courses\\22Spring\\CSYE7105_Parallel ML and AI\\Final Project\\cleaned_data\\test\\PNEUMONIA\",\n",
    "                r\"E:\\NEU\\Courses\\22Spring\\CSYE7105_Parallel ML and AI\\Final Project\\cleaned_data\\train\\PNEUMONIA\",\n",
    "                r\"E:\\NEU\\Courses\\22Spring\\CSYE7105_Parallel ML and AI\\Final Project\\cleaned_data\\train\\NORMAL\"]\n",
    "for i in range(len(input_paths)):\n",
    "    for file in glob.glob(input_paths[i]):\n",
    "        #print(file)\n",
    "        convertjpeg(file,output_paths[i])"
   ]
  }
 ],
 "metadata": {
  "kernelspec": {
   "display_name": "Python 3 (ipykernel)",
   "language": "python",
   "name": "python3"
  },
  "language_info": {
   "codemirror_mode": {
    "name": "ipython",
    "version": 3
   },
   "file_extension": ".py",
   "mimetype": "text/x-python",
   "name": "python",
   "nbconvert_exporter": "python",
   "pygments_lexer": "ipython3",
   "version": "3.9.7"
  }
 },
 "nbformat": 4,
 "nbformat_minor": 5
}
