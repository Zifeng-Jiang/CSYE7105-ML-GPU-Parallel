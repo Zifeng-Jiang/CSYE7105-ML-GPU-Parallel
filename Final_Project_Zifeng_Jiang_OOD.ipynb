{
 "cells": [
  {
   "cell_type": "markdown",
   "id": "9a93145b-c582-49a3-bd21-b63a25d19b54",
   "metadata": {
    "id": "9a93145b-c582-49a3-bd21-b63a25d19b54"
   },
   "source": [
    "# Deep Learning Classification on Chest X-ray Images with CNN, ResNet parallelized on GPU"
   ]
  },
  {
   "cell_type": "markdown",
   "id": "13a803fa-9257-4b60-a81f-5e1971781db1",
   "metadata": {
    "id": "13a803fa-9257-4b60-a81f-5e1971781db1"
   },
   "source": [
    "## Part 1: Data Preprocessing\n",
    "Before we apply our CNN and ResNet models, we should make the images to the same size and same suffix. This part is mainly about image preprocessing.\n",
    "### 1.1 Resize all the image size to 128x128\n",
    "Done this part in localhost and uploaded to colab."
   ]
  },
  {
   "cell_type": "markdown",
   "id": "8c149ea5-5404-4402-af69-cf4b44d10c34",
   "metadata": {
    "id": "8c149ea5-5404-4402-af69-cf4b44d10c34"
   },
   "source": [
    "### 1.2 Loading all images in a numpy array with labels"
   ]
  },
  {
   "cell_type": "code",
   "execution_count": 1,
   "id": "47db7c12-7868-4229-9c04-fd54bcf2ebea",
   "metadata": {
    "id": "47db7c12-7868-4229-9c04-fd54bcf2ebea"
   },
   "outputs": [],
   "source": [
    "import pandas as pd\n",
    "import numpy as np\n",
    "import matplotlib.pyplot as plt\n",
    "from sklearn.model_selection import train_test_split\n",
    "from keras.preprocessing.image import array_to_img\n",
    "from numpy import asarray\n",
    "import time\n",
    "import multiprocessing as mp\n",
    "%matplotlib inline"
   ]
  },
  {
   "cell_type": "code",
   "execution_count": 2,
   "id": "6b39e2c0-1f29-4013-9ebc-9f1ce9a6d0f5",
   "metadata": {
    "colab": {
     "base_uri": "https://localhost:8080/"
    },
    "id": "6b39e2c0-1f29-4013-9ebc-9f1ce9a6d0f5",
    "outputId": "3c8885f4-4cd3-4176-f235-98ecd1db5fb5"
   },
   "outputs": [
    {
     "name": "stdout",
     "output_type": "stream",
     "text": [
      "The elapsed time for the reading data using one CPU is: 6.891961574554443\n"
     ]
    }
   ],
   "source": [
    "#img = Image.open('Sample.png')\n",
    "#numpydata = asarray(img)\n",
    "from PIL import Image\n",
    "import os.path\n",
    "import glob\n",
    "def load_image_from_folder(path, basewidth, hsize):\n",
    "    # creating temp array\n",
    "    image_array = []\n",
    "    labels = []\n",
    "    i = 0\n",
    "    # directory walking started\n",
    "    for subdir, dirs, files in os.walk(path):\n",
    "        for file in files:\n",
    "            if file != []:\n",
    "                # trying to get path of each images\n",
    "                path_updated = os.path.join(subdir, file)\n",
    "                # fetching lables from directory names\n",
    "                label = subdir.split('/')[-1]\n",
    "                if label == 'NORMAL':\n",
    "                    labels.append(0)\n",
    "                if label == 'PNEUMONIA':\n",
    "                    labels.append(1)\n",
    "                # Converting image & resizing it\n",
    "                img = Image.open(path_updated).convert('L')\n",
    "                img = img.resize((basewidth, hsize), Image.ANTIALIAS)\n",
    "                frame = asarray(img)\n",
    "                # appending array of image in temp array\n",
    "                image_array.append(frame)\n",
    "  \n",
    "    # Now i have to convert this images to array channel format which can be done using zero matrix\n",
    "    # creating a dummy zero matrix of same shape with single channel\n",
    "    \n",
    "    image_array1 = np.zeros(shape=(np.array(image_array).shape[0], hsize, basewidth, 1))\n",
    "    for i in range(np.array(image_array).shape[0]):\n",
    "        # finally each sub matrix will be replaced with respective images array\n",
    "        image_array1[i, :, :, 0] = image_array[i]\n",
    "    \n",
    "    return image_array1, np.array(labels)\n",
    "start1_def = time.time()\n",
    "pool = mp.Pool(1)\n",
    "train_images, train_labels = pool.apply(load_image_from_folder, args=(r'/home/jiang.zif/FinalProject/cleaned_data/train', 128, 128))\n",
    "#train_images, train_labels = load_image_from_folder(r\"E:\\NEU\\Courses\\22Spring\\CSYE7105_Parallel ML and AI\\Final Project\\cleaned_data\\train\", 128, 128)\n",
    "test_images, test_labels = pool.apply(load_image_from_folder, args=(r'/home/cleaned_data/test', 128, 128))\n",
    "pool.close()\n",
    "end1_def = time.time()\n",
    "tdef1 = end1_def - start1_def\n",
    "print(\"The elapsed time for the reading data using one CPU is:\",tdef1)"
   ]
  },
  {
   "cell_type": "code",
   "execution_count": 3,
   "id": "w_3oj7HDRoFw",
   "metadata": {
    "colab": {
     "base_uri": "https://localhost:8080/"
    },
    "id": "w_3oj7HDRoFw",
    "outputId": "25d43c35-970b-432c-9ca3-80179988ab7e"
   },
   "outputs": [
    {
     "name": "stdout",
     "output_type": "stream",
     "text": [
      "The elapsed time for the reading data using 2 CPUs is: 5.289403676986694\n"
     ]
    }
   ],
   "source": [
    "start2_def = time.time()\n",
    "pool = mp.Pool(2)\n",
    "train_images, train_labels = pool.apply(load_image_from_folder, args=(r'/home/jiang.zif/FinalProject/cleaned_data/train', 128, 128))\n",
    "#train_images, train_labels = load_image_from_folder(r\"E:\\NEU\\Courses\\22Spring\\CSYE7105_Parallel ML and AI\\Final Project\\cleaned_data\\train\", 128, 128)\n",
    "test_images, test_labels = pool.apply(load_image_from_folder, args=(r'/home/jiang.zif/FinalProject/cleaned_data/test', 128, 128))\n",
    "pool.close()\n",
    "end2_def = time.time()\n",
    "tdef2 = end2_def - start2_def\n",
    "print(\"The elapsed time for the reading data using 2 CPUs is:\",tdef2)"
   ]
  },
  {
   "cell_type": "code",
   "execution_count": 4,
   "id": "taufl1IoRxPu",
   "metadata": {
    "colab": {
     "base_uri": "https://localhost:8080/"
    },
    "id": "taufl1IoRxPu",
    "outputId": "76ed949f-f405-4660-a7fe-23240f586c38"
   },
   "outputs": [
    {
     "name": "stdout",
     "output_type": "stream",
     "text": [
      "The elapsed time for the reading data using 4 CPUs is: 5.077673435211182\n"
     ]
    }
   ],
   "source": [
    "start4_def = time.time()\n",
    "pool = mp.Pool(4)\n",
    "train_images, train_labels = pool.apply(load_image_from_folder, args=(r'/home/jiang.zif/FinalProject/cleaned_data/train', 128, 128))\n",
    "#train_images, train_labels = load_image_from_folder(r\"E:\\NEU\\Courses\\22Spring\\CSYE7105_Parallel ML and AI\\Final Project\\cleaned_data\\train\", 128, 128)\n",
    "test_images, test_labels = pool.apply(load_image_from_folder, args=(r'/home/jiang.zif/FinalProject/cleaned_data/test', 128, 128))\n",
    "pool.close()\n",
    "end4_def = time.time()\n",
    "tdef4 = end4_def - start4_def\n",
    "print(\"The elapsed time for the reading data using 4 CPUs is:\",tdef4)"
   ]
  },
  {
   "cell_type": "code",
   "execution_count": 5,
   "id": "H1RgQCE3SADo",
   "metadata": {
    "colab": {
     "base_uri": "https://localhost:8080/"
    },
    "id": "H1RgQCE3SADo",
    "outputId": "9dff120b-fa8e-4c5a-a734-325da9fde1ea"
   },
   "outputs": [
    {
     "name": "stdout",
     "output_type": "stream",
     "text": [
      "The elapsed time for the reading data using 8 CPUs is: 5.045602083206177\n"
     ]
    }
   ],
   "source": [
    "start8_def = time.time()\n",
    "pool = mp.Pool(8)\n",
    "train_images, train_labels = pool.apply(load_image_from_folder, args=(r'/home/jiang.zif/FinalProject/cleaned_data/train', 128, 128))\n",
    "#train_images, train_labels = load_image_from_folder(r\"E:\\NEU\\Courses\\22Spring\\CSYE7105_Parallel ML and AI\\Final Project\\cleaned_data\\train\", 128, 128)\n",
    "test_images, test_labels = pool.apply(load_image_from_folder, args=(r'/home/jiang.zif/FinalProject/cleaned_data/test', 128, 128))\n",
    "pool.close()\n",
    "end8_def = time.time()\n",
    "tdef8 = end8_def - start8_def\n",
    "print(\"The elapsed time for the reading data using 8 CPUs is:\",tdef8)"
   ]
  },
  {
   "cell_type": "code",
   "execution_count": 6,
   "id": "9X9olkDoU7X9",
   "metadata": {
    "colab": {
     "base_uri": "https://localhost:8080/",
     "height": 295
    },
    "id": "9X9olkDoU7X9",
    "outputId": "65de6c36-2545-4d1e-9f92-8841465df50e"
   },
   "outputs": [
    {
     "data": {
      "image/png": "[encoded data removed]",
      "text/plain": [
       "<Figure size 432x288 with 1 Axes>"
      ]
     },
     "metadata": {
      "needs_background": "light"
     },
     "output_type": "display_data"
    }
   ],
   "source": [
    "plt.plot([1, 2, 4, 8], [tdef1, tdef2, tdef4, tdef8])\n",
    "plt.xticks([1, 2, 4, 8])\n",
    "plt.title(\"the trend curve of speedup as the number of CPU\")\n",
    "plt.xlabel(\"Number of CPU\")\n",
    "plt.ylabel(\"Elapsed time\")\n",
    "plt.grid(color = 'grey', linestyle = 'dashed')\n",
    "plt.savefig(\"mpread.png\")\n",
    "plt.show()"
   ]
  },
  {
   "cell_type": "markdown",
   "id": "37438326",
   "metadata": {
    "id": "37438326"
   },
   "source": [
    "### 1.3 Changing all the numpy arrays to dask array"
   ]
  },
  {
   "cell_type": "code",
   "execution_count": 7,
   "id": "600a3af5",
   "metadata": {
    "colab": {
     "base_uri": "https://localhost:8080/"
    },
    "id": "600a3af5",
    "outputId": "1ae6782a-c6c3-4151-e859-dedff762dc0f"
   },
   "outputs": [
    {
     "name": "stdout",
     "output_type": "stream",
     "text": [
      "[[[[ 1.]\n",
      "   [ 0.]\n",
      "   [ 0.]\n",
      "   ...\n",
      "   [ 1.]\n",
      "   [ 1.]\n",
      "   [ 0.]]\n",
      "\n",
      "  [[ 1.]\n",
      "   [ 0.]\n",
      "   [ 0.]\n",
      "   ...\n",
      "   [ 1.]\n",
      "   [ 1.]\n",
      "   [ 0.]]\n",
      "\n",
      "  [[ 1.]\n",
      "   [ 0.]\n",
      "   [ 0.]\n",
      "   ...\n",
      "   [ 1.]\n",
      "   [ 1.]\n",
      "   [ 0.]]\n",
      "\n",
      "  ...\n",
      "\n",
      "  [[ 0.]\n",
      "   [ 0.]\n",
      "   [ 0.]\n",
      "   ...\n",
      "   [ 0.]\n",
      "   [ 0.]\n",
      "   [ 2.]]\n",
      "\n",
      "  [[ 0.]\n",
      "   [ 0.]\n",
      "   [ 0.]\n",
      "   ...\n",
      "   [ 0.]\n",
      "   [ 0.]\n",
      "   [ 2.]]\n",
      "\n",
      "  [[ 0.]\n",
      "   [ 0.]\n",
      "   [ 0.]\n",
      "   ...\n",
      "   [ 0.]\n",
      "   [ 0.]\n",
      "   [ 2.]]]\n",
      "\n",
      "\n",
      " [[[48.]\n",
      "   [46.]\n",
      "   [46.]\n",
      "   ...\n",
      "   [77.]\n",
      "   [76.]\n",
      "   [75.]]\n",
      "\n",
      "  [[48.]\n",
      "   [46.]\n",
      "   [46.]\n",
      "   ...\n",
      "   [77.]\n",
      "   [75.]\n",
      "   [74.]]\n",
      "\n",
      "  [[48.]\n",
      "   [46.]\n",
      "   [46.]\n",
      "   ...\n",
      "   [76.]\n",
      "   [74.]\n",
      "   [73.]]\n",
      "\n",
      "  ...\n",
      "\n",
      "  [[46.]\n",
      "   [57.]\n",
      "   [69.]\n",
      "   ...\n",
      "   [93.]\n",
      "   [91.]\n",
      "   [86.]]\n",
      "\n",
      "  [[47.]\n",
      "   [59.]\n",
      "   [71.]\n",
      "   ...\n",
      "   [96.]\n",
      "   [94.]\n",
      "   [86.]]\n",
      "\n",
      "  [[48.]\n",
      "   [60.]\n",
      "   [71.]\n",
      "   ...\n",
      "   [97.]\n",
      "   [96.]\n",
      "   [86.]]]\n",
      "\n",
      "\n",
      " [[[ 0.]\n",
      "   [ 2.]\n",
      "   [12.]\n",
      "   ...\n",
      "   [ 0.]\n",
      "   [ 3.]\n",
      "   [ 0.]]\n",
      "\n",
      "  [[ 0.]\n",
      "   [ 2.]\n",
      "   [12.]\n",
      "   ...\n",
      "   [ 0.]\n",
      "   [ 3.]\n",
      "   [ 0.]]\n",
      "\n",
      "  [[ 0.]\n",
      "   [ 1.]\n",
      "   [11.]\n",
      "   ...\n",
      "   [ 0.]\n",
      "   [ 3.]\n",
      "   [ 0.]]\n",
      "\n",
      "  ...\n",
      "\n",
      "  [[ 1.]\n",
      "   [ 0.]\n",
      "   [ 4.]\n",
      "   ...\n",
      "   [ 0.]\n",
      "   [ 0.]\n",
      "   [ 0.]]\n",
      "\n",
      "  [[ 1.]\n",
      "   [ 0.]\n",
      "   [ 4.]\n",
      "   ...\n",
      "   [ 0.]\n",
      "   [ 0.]\n",
      "   [ 0.]]\n",
      "\n",
      "  [[ 1.]\n",
      "   [ 0.]\n",
      "   [ 4.]\n",
      "   ...\n",
      "   [ 0.]\n",
      "   [ 0.]\n",
      "   [ 0.]]]\n",
      "\n",
      "\n",
      " ...\n",
      "\n",
      "\n",
      " [[[13.]\n",
      "   [25.]\n",
      "   [38.]\n",
      "   ...\n",
      "   [33.]\n",
      "   [17.]\n",
      "   [ 4.]]\n",
      "\n",
      "  [[11.]\n",
      "   [24.]\n",
      "   [37.]\n",
      "   ...\n",
      "   [30.]\n",
      "   [15.]\n",
      "   [ 3.]]\n",
      "\n",
      "  [[ 9.]\n",
      "   [22.]\n",
      "   [35.]\n",
      "   ...\n",
      "   [27.]\n",
      "   [12.]\n",
      "   [ 1.]]\n",
      "\n",
      "  ...\n",
      "\n",
      "  [[ 0.]\n",
      "   [ 0.]\n",
      "   [ 0.]\n",
      "   ...\n",
      "   [ 0.]\n",
      "   [ 0.]\n",
      "   [ 0.]]\n",
      "\n",
      "  [[ 0.]\n",
      "   [ 0.]\n",
      "   [ 0.]\n",
      "   ...\n",
      "   [ 0.]\n",
      "   [ 0.]\n",
      "   [ 0.]]\n",
      "\n",
      "  [[ 0.]\n",
      "   [ 0.]\n",
      "   [ 0.]\n",
      "   ...\n",
      "   [ 0.]\n",
      "   [ 0.]\n",
      "   [ 0.]]]\n",
      "\n",
      "\n",
      " [[[ 0.]\n",
      "   [ 2.]\n",
      "   [11.]\n",
      "   ...\n",
      "   [59.]\n",
      "   [61.]\n",
      "   [54.]]\n",
      "\n",
      "  [[ 0.]\n",
      "   [ 2.]\n",
      "   [11.]\n",
      "   ...\n",
      "   [60.]\n",
      "   [62.]\n",
      "   [55.]]\n",
      "\n",
      "  [[ 0.]\n",
      "   [ 2.]\n",
      "   [10.]\n",
      "   ...\n",
      "   [62.]\n",
      "   [64.]\n",
      "   [56.]]\n",
      "\n",
      "  ...\n",
      "\n",
      "  [[ 0.]\n",
      "   [ 1.]\n",
      "   [ 0.]\n",
      "   ...\n",
      "   [ 0.]\n",
      "   [ 0.]\n",
      "   [ 1.]]\n",
      "\n",
      "  [[ 0.]\n",
      "   [ 1.]\n",
      "   [ 0.]\n",
      "   ...\n",
      "   [ 0.]\n",
      "   [ 0.]\n",
      "   [ 1.]]\n",
      "\n",
      "  [[ 0.]\n",
      "   [ 1.]\n",
      "   [ 0.]\n",
      "   ...\n",
      "   [ 0.]\n",
      "   [ 0.]\n",
      "   [ 1.]]]\n",
      "\n",
      "\n",
      " [[[ 0.]\n",
      "   [ 0.]\n",
      "   [ 0.]\n",
      "   ...\n",
      "   [ 3.]\n",
      "   [ 3.]\n",
      "   [ 3.]]\n",
      "\n",
      "  [[ 0.]\n",
      "   [ 0.]\n",
      "   [ 0.]\n",
      "   ...\n",
      "   [ 3.]\n",
      "   [ 3.]\n",
      "   [ 3.]]\n",
      "\n",
      "  [[ 0.]\n",
      "   [ 0.]\n",
      "   [ 0.]\n",
      "   ...\n",
      "   [ 2.]\n",
      "   [ 2.]\n",
      "   [ 2.]]\n",
      "\n",
      "  ...\n",
      "\n",
      "  [[ 0.]\n",
      "   [ 0.]\n",
      "   [ 0.]\n",
      "   ...\n",
      "   [ 0.]\n",
      "   [ 0.]\n",
      "   [ 0.]]\n",
      "\n",
      "  [[ 0.]\n",
      "   [ 0.]\n",
      "   [ 0.]\n",
      "   ...\n",
      "   [ 0.]\n",
      "   [ 0.]\n",
      "   [ 0.]]\n",
      "\n",
      "  [[ 0.]\n",
      "   [ 0.]\n",
      "   [ 0.]\n",
      "   ...\n",
      "   [ 0.]\n",
      "   [ 0.]\n",
      "   [ 0.]]]]\n",
      "[[[[  0.]\n",
      "   [  0.]\n",
      "   [  0.]\n",
      "   ...\n",
      "   [ 69.]\n",
      "   [ 11.]\n",
      "   [  2.]]\n",
      "\n",
      "  [[  0.]\n",
      "   [  0.]\n",
      "   [  0.]\n",
      "   ...\n",
      "   [ 56.]\n",
      "   [ 10.]\n",
      "   [  0.]]\n",
      "\n",
      "  [[  0.]\n",
      "   [  0.]\n",
      "   [  0.]\n",
      "   ...\n",
      "   [ 37.]\n",
      "   [  8.]\n",
      "   [  0.]]\n",
      "\n",
      "  ...\n",
      "\n",
      "  [[  0.]\n",
      "   [  0.]\n",
      "   [  0.]\n",
      "   ...\n",
      "   [  0.]\n",
      "   [  0.]\n",
      "   [  0.]]\n",
      "\n",
      "  [[  0.]\n",
      "   [  0.]\n",
      "   [  0.]\n",
      "   ...\n",
      "   [  0.]\n",
      "   [  0.]\n",
      "   [  0.]]\n",
      "\n",
      "  [[  0.]\n",
      "   [  0.]\n",
      "   [  0.]\n",
      "   ...\n",
      "   [  0.]\n",
      "   [  0.]\n",
      "   [  0.]]]\n",
      "\n",
      "\n",
      " [[[ 65.]\n",
      "   [ 77.]\n",
      "   [ 84.]\n",
      "   ...\n",
      "   [130.]\n",
      "   [125.]\n",
      "   [105.]]\n",
      "\n",
      "  [[ 66.]\n",
      "   [ 78.]\n",
      "   [ 84.]\n",
      "   ...\n",
      "   [121.]\n",
      "   [115.]\n",
      "   [ 94.]]\n",
      "\n",
      "  [[ 68.]\n",
      "   [ 79.]\n",
      "   [ 84.]\n",
      "   ...\n",
      "   [119.]\n",
      "   [112.]\n",
      "   [ 91.]]\n",
      "\n",
      "  ...\n",
      "\n",
      "  [[  0.]\n",
      "   [  6.]\n",
      "   [  8.]\n",
      "   ...\n",
      "   [  0.]\n",
      "   [  0.]\n",
      "   [  1.]]\n",
      "\n",
      "  [[  9.]\n",
      "   [ 16.]\n",
      "   [ 20.]\n",
      "   ...\n",
      "   [  0.]\n",
      "   [  0.]\n",
      "   [  1.]]\n",
      "\n",
      "  [[ 68.]\n",
      "   [ 72.]\n",
      "   [ 74.]\n",
      "   ...\n",
      "   [  0.]\n",
      "   [  0.]\n",
      "   [  1.]]]\n",
      "\n",
      "\n",
      " [[[ 38.]\n",
      "   [ 42.]\n",
      "   [ 48.]\n",
      "   ...\n",
      "   [ 45.]\n",
      "   [ 39.]\n",
      "   [ 35.]]\n",
      "\n",
      "  [[ 41.]\n",
      "   [ 45.]\n",
      "   [ 50.]\n",
      "   ...\n",
      "   [ 46.]\n",
      "   [ 41.]\n",
      "   [ 38.]]\n",
      "\n",
      "  [[ 47.]\n",
      "   [ 50.]\n",
      "   [ 53.]\n",
      "   ...\n",
      "   [ 47.]\n",
      "   [ 44.]\n",
      "   [ 42.]]\n",
      "\n",
      "  ...\n",
      "\n",
      "  [[ 26.]\n",
      "   [ 26.]\n",
      "   [ 26.]\n",
      "   ...\n",
      "   [ 36.]\n",
      "   [ 22.]\n",
      "   [ 13.]]\n",
      "\n",
      "  [[ 26.]\n",
      "   [ 26.]\n",
      "   [ 26.]\n",
      "   ...\n",
      "   [ 36.]\n",
      "   [ 21.]\n",
      "   [ 20.]]\n",
      "\n",
      "  [[ 26.]\n",
      "   [ 26.]\n",
      "   [ 26.]\n",
      "   ...\n",
      "   [ 32.]\n",
      "   [ 18.]\n",
      "   [ 28.]]]\n",
      "\n",
      "\n",
      " ...\n",
      "\n",
      "\n",
      " [[[ 81.]\n",
      "   [ 81.]\n",
      "   [ 84.]\n",
      "   ...\n",
      "   [ 64.]\n",
      "   [ 59.]\n",
      "   [ 56.]]\n",
      "\n",
      "  [[104.]\n",
      "   [103.]\n",
      "   [101.]\n",
      "   ...\n",
      "   [ 71.]\n",
      "   [ 65.]\n",
      "   [ 60.]]\n",
      "\n",
      "  [[136.]\n",
      "   [134.]\n",
      "   [131.]\n",
      "   ...\n",
      "   [ 82.]\n",
      "   [ 73.]\n",
      "   [ 66.]]\n",
      "\n",
      "  ...\n",
      "\n",
      "  [[  6.]\n",
      "   [ 10.]\n",
      "   [ 40.]\n",
      "   ...\n",
      "   [ 73.]\n",
      "   [ 89.]\n",
      "   [ 70.]]\n",
      "\n",
      "  [[  7.]\n",
      "   [ 11.]\n",
      "   [ 41.]\n",
      "   ...\n",
      "   [ 52.]\n",
      "   [ 70.]\n",
      "   [ 31.]]\n",
      "\n",
      "  [[  8.]\n",
      "   [ 12.]\n",
      "   [ 42.]\n",
      "   ...\n",
      "   [  0.]\n",
      "   [ 11.]\n",
      "   [  0.]]]\n",
      "\n",
      "\n",
      " [[[  1.]\n",
      "   [  1.]\n",
      "   [  0.]\n",
      "   ...\n",
      "   [  0.]\n",
      "   [  0.]\n",
      "   [  0.]]\n",
      "\n",
      "  [[  0.]\n",
      "   [  2.]\n",
      "   [  0.]\n",
      "   ...\n",
      "   [  0.]\n",
      "   [  0.]\n",
      "   [  0.]]\n",
      "\n",
      "  [[  0.]\n",
      "   [  2.]\n",
      "   [  0.]\n",
      "   ...\n",
      "   [  0.]\n",
      "   [  0.]\n",
      "   [  0.]]\n",
      "\n",
      "  ...\n",
      "\n",
      "  [[  0.]\n",
      "   [  1.]\n",
      "   [  0.]\n",
      "   ...\n",
      "   [  0.]\n",
      "   [  0.]\n",
      "   [  0.]]\n",
      "\n",
      "  [[  0.]\n",
      "   [  1.]\n",
      "   [  0.]\n",
      "   ...\n",
      "   [  0.]\n",
      "   [  0.]\n",
      "   [  0.]]\n",
      "\n",
      "  [[  0.]\n",
      "   [  1.]\n",
      "   [  0.]\n",
      "   ...\n",
      "   [  0.]\n",
      "   [  0.]\n",
      "   [  0.]]]\n",
      "\n",
      "\n",
      " [[[ 29.]\n",
      "   [ 40.]\n",
      "   [ 53.]\n",
      "   ...\n",
      "   [ 88.]\n",
      "   [ 77.]\n",
      "   [ 70.]]\n",
      "\n",
      "  [[ 28.]\n",
      "   [ 39.]\n",
      "   [ 53.]\n",
      "   ...\n",
      "   [ 86.]\n",
      "   [ 76.]\n",
      "   [ 69.]]\n",
      "\n",
      "  [[ 26.]\n",
      "   [ 37.]\n",
      "   [ 51.]\n",
      "   ...\n",
      "   [ 84.]\n",
      "   [ 74.]\n",
      "   [ 67.]]\n",
      "\n",
      "  ...\n",
      "\n",
      "  [[  0.]\n",
      "   [  1.]\n",
      "   [  1.]\n",
      "   ...\n",
      "   [ 16.]\n",
      "   [ 18.]\n",
      "   [ 20.]]\n",
      "\n",
      "  [[  0.]\n",
      "   [  1.]\n",
      "   [  1.]\n",
      "   ...\n",
      "   [ 16.]\n",
      "   [ 18.]\n",
      "   [ 20.]]\n",
      "\n",
      "  [[  0.]\n",
      "   [  1.]\n",
      "   [  1.]\n",
      "   ...\n",
      "   [ 16.]\n",
      "   [ 18.]\n",
      "   [ 20.]]]]\n"
     ]
    }
   ],
   "source": [
    "import dask.array as da\n",
    "train_images_dask = da.asarray(train_images)\n",
    "test_images_dask = da.asarray(test_images)\n",
    "print(train_images_dask.compute())\n",
    "print(test_images_dask.compute())"
   ]
  },
  {
   "cell_type": "markdown",
   "id": "975b9035",
   "metadata": {
    "id": "975b9035"
   },
   "source": [
    "### 1.4 Normalize pixel values to be between 0 and 1\n",
    "Compare the time between the dask array and numpy array"
   ]
  },
  {
   "cell_type": "code",
   "execution_count": 8,
   "id": "8a946336",
   "metadata": {
    "colab": {
     "base_uri": "https://localhost:8080/"
    },
    "id": "8a946336",
    "outputId": "3952064e-b88f-4827-9221-d4f29d112e1f"
   },
   "outputs": [
    {
     "name": "stdout",
     "output_type": "stream",
     "text": [
      "The elapsed time for the numpy array normalization is: 0.35271596908569336\n"
     ]
    }
   ],
   "source": [
    "start1_numpy = time.time()\n",
    "train_images, test_images = train_images / 255.0, test_images / 255.0\n",
    "end1_numpy = time.time()\n",
    "tn1 = end1_numpy - start1_numpy\n",
    "print(\"The elapsed time for the numpy array normalization is:\",tn1)"
   ]
  },
  {
   "cell_type": "code",
   "execution_count": 9,
   "id": "b5dca56d",
   "metadata": {
    "colab": {
     "base_uri": "https://localhost:8080/"
    },
    "id": "b5dca56d",
    "outputId": "aa8389a1-14c7-49e3-b540-702e78c40c6b"
   },
   "outputs": [
    {
     "name": "stdout",
     "output_type": "stream",
     "text": [
      "The elapsed time for the dask array normalization is: 0.007077217102050781\n"
     ]
    }
   ],
   "source": [
    "start1_dask = time.time()\n",
    "train_images_dask, test_images_dask = train_images_dask / 255.0, test_images_dask / 255.0\n",
    "end1_dask = time.time()\n",
    "td1 = end1_dask - start1_dask\n",
    "print(\"The elapsed time for the dask array normalization is:\",td1)"
   ]
  },
  {
   "cell_type": "markdown",
   "id": "725843b8",
   "metadata": {
    "id": "725843b8"
   },
   "source": [
    "## Part 2: CNNs\n",
    "In this part, we are going to build a CNN model using tensorflow.\n",
    "\n",
    "The  model I built is a very basic CNN model with common structures with Maxpooling layers. \n",
    "\n",
    "Average pooling method smooths out the image and hence the sharp features may not be identified when this pooling method is used.\n",
    "Max pooling selects the brighter pixels from the image. It is useful when the background of the image is dark and we are interested in only the lighter pixels of the image.\n",
    "### 2.1 model_CNN_GPU with One Device Strategy\n",
    "Normal training without parallel"
   ]
  },
  {
   "cell_type": "code",
   "execution_count": 10,
   "id": "80918b26",
   "metadata": {
    "id": "80918b26"
   },
   "outputs": [],
   "source": [
    "import tensorflow as tf\n",
    "import keras\n",
    "from keras.preprocessing.image import ImageDataGenerator\n",
    "from keras.models import Sequential\n",
    "from keras.layers import Dense, Dropout, Activation, Flatten\n",
    "from keras.layers import Conv2D, MaxPooling2D, AveragePooling2D, Input\n",
    "from keras.layers import BatchNormalization\n",
    "from tensorflow.keras.optimizers import Adam\n",
    "from keras.callbacks import ModelCheckpoint, LearningRateScheduler\n",
    "from keras.callbacks import ReduceLROnPlateau\n",
    "from sklearn import preprocessing\n",
    "from keras.regularizers import l2\n",
    "from keras.models import Model\n",
    "import seaborn as sns\n",
    "from keras import backend as K"
   ]
  },
  {
   "cell_type": "code",
   "execution_count": 11,
   "id": "88d916f2",
   "metadata": {
    "colab": {
     "base_uri": "https://localhost:8080/"
    },
    "id": "88d916f2",
    "outputId": "51458589-82ee-4081-a983-da86137d705d"
   },
   "outputs": [
    {
     "data": {
      "text/plain": [
       "['GPU:0']"
      ]
     },
     "execution_count": 11,
     "metadata": {},
     "output_type": "execute_result"
    }
   ],
   "source": [
    "device_type = 'GPU'\n",
    "devices = tf.config.experimental.list_physical_devices(device_type)\n",
    "devices_names = [d.name.split(\"e:\")[1] for d in devices]\n",
    "devices_names"
   ]
  },
  {
   "cell_type": "code",
   "execution_count": 12,
   "id": "16263972",
   "metadata": {
    "id": "16263972"
   },
   "outputs": [],
   "source": [
    "# initiate hyper-parameters\n",
    "batch_size = 128\n",
    "epochs = 20\n",
    "data_augmentation = True\n",
    "opt = tf.keras.optimizers.Adam(learning_rate = 0.00001)"
   ]
  },
  {
   "cell_type": "code",
   "execution_count": 13,
   "id": "b1613bb3",
   "metadata": {
    "id": "b1613bb3"
   },
   "outputs": [],
   "source": [
    "K.clear_session()\n",
    "\n",
    "strategy_1 = tf.distribute.OneDeviceStrategy(device = 'GPU:0')\n",
    "with strategy_1.scope():\n",
    "    model_CNN_v1 = Sequential()\n",
    "    model_CNN_v1.add(Conv2D(32, (3, 3), padding = 'same',  # 32，(3,3) is the number and size of the convolution kernel\n",
    "                      input_shape = train_images.shape[1:]))  # The first layer needs to indicate the size of the image\n",
    "    model_CNN_v1.add(Activation('relu'))\n",
    "    model_CNN_v1.add(Conv2D(32, (3, 3))) # Convolutional layer\n",
    "    model_CNN_v1.add(Activation('relu'))\n",
    "    model_CNN_v1.add(BatchNormalization())\n",
    "    model_CNN_v1.add(MaxPooling2D(pool_size=(2, 2))) # Pooling layer\n",
    "\n",
    "    model_CNN_v1.add(Conv2D(64, (3, 3), padding='same')) # Convolutional layer\n",
    "    model_CNN_v1.add(Activation('relu'))\n",
    "    model_CNN_v1.add(Conv2D(64, (3, 3))) # Convolutional layer\n",
    "    model_CNN_v1.add(Activation('relu'))\n",
    "    model_CNN_v1.add(BatchNormalization())\n",
    "    model_CNN_v1.add(MaxPooling2D(pool_size=(2, 2))) # Pooling layer\n",
    "\n",
    "    model_CNN_v1.add(Conv2D(128, (3, 3), padding='same')) # Convolutional layer\n",
    "    model_CNN_v1.add(Activation('relu'))\n",
    "    model_CNN_v1.add(Conv2D(128, (3, 3))) # Convolutional layer\n",
    "    model_CNN_v1.add(Activation('relu'))\n",
    "    model_CNN_v1.add(BatchNormalization())\n",
    "    model_CNN_v1.add(MaxPooling2D(pool_size=(2, 2))) # Pooling layer\n",
    "\n",
    "    model_CNN_v1.add(Flatten())\n",
    "    model_CNN_v1.add(Dense(512)) # Fully connected layer\n",
    "    model_CNN_v1.add(Activation('relu'))\n",
    "    model_CNN_v1.add(Dropout(0.5)) # Dropout layer\n",
    "    model_CNN_v1.add(Dense(1)) # Output layer\n",
    "    model_CNN_v1.add(Activation('sigmoid'))\n",
    "\n",
    "\n",
    "\n",
    "    # Let's compile the model  \n",
    "    model_CNN_v1.compile(loss = 'binary_crossentropy',\n",
    "                    optimizer = opt,\n",
    "                    metrics = ['accuracy'])"
   ]
  },
  {
   "cell_type": "code",
   "execution_count": 14,
   "id": "8753fe29",
   "metadata": {
    "colab": {
     "base_uri": "https://localhost:8080/"
    },
    "id": "8753fe29",
    "outputId": "ee8fd75a-32a2-4ed4-895f-e4602851aa70"
   },
   "outputs": [
    {
     "name": "stdout",
     "output_type": "stream",
     "text": [
      "Model: \"sequential\"\n",
      "_________________________________________________________________\n",
      " Layer (type)                Output Shape              Param #   \n",
      "=================================================================\n",
      " conv2d (Conv2D)             (None, 128, 128, 32)      320       \n",
      "                                                                 \n",
      " activation (Activation)     (None, 128, 128, 32)      0         \n",
      "                                                                 \n",
      " conv2d_1 (Conv2D)           (None, 126, 126, 32)      9248      \n",
      "                                                                 \n",
      " activation_1 (Activation)   (None, 126, 126, 32)      0         \n",
      "                                                                 \n",
      " batch_normalization (BatchN  (None, 126, 126, 32)     128       \n",
      " ormalization)                                                   \n",
      "                                                                 \n",
      " max_pooling2d (MaxPooling2D  (None, 63, 63, 32)       0         \n",
      " )                                                               \n",
      "                                                                 \n",
      " conv2d_2 (Conv2D)           (None, 63, 63, 64)        18496     \n",
      "                                                                 \n",
      " activation_2 (Activation)   (None, 63, 63, 64)        0         \n",
      "                                                                 \n",
      " conv2d_3 (Conv2D)           (None, 61, 61, 64)        36928     \n",
      "                                                                 \n",
      " activation_3 (Activation)   (None, 61, 61, 64)        0         \n",
      "                                                                 \n",
      " batch_normalization_1 (Batc  (None, 61, 61, 64)       256       \n",
      " hNormalization)                                                 \n",
      "                                                                 \n",
      " max_pooling2d_1 (MaxPooling  (None, 30, 30, 64)       0         \n",
      " 2D)                                                             \n",
      "                                                                 \n",
      " conv2d_4 (Conv2D)           (None, 30, 30, 128)       73856     \n",
      "                                                                 \n",
      " activation_4 (Activation)   (None, 30, 30, 128)       0         \n",
      "                                                                 \n",
      " conv2d_5 (Conv2D)           (None, 28, 28, 128)       147584    \n",
      "                                                                 \n",
      " activation_5 (Activation)   (None, 28, 28, 128)       0         \n",
      "                                                                 \n",
      " batch_normalization_2 (Batc  (None, 28, 28, 128)      512       \n",
      " hNormalization)                                                 \n",
      "                                                                 \n",
      " max_pooling2d_2 (MaxPooling  (None, 14, 14, 128)      0         \n",
      " 2D)                                                             \n",
      "                                                                 \n",
      " flatten (Flatten)           (None, 25088)             0         \n",
      "                                                                 \n",
      " dense (Dense)               (None, 512)               12845568  \n",
      "                                                                 \n",
      " activation_6 (Activation)   (None, 512)               0         \n",
      "                                                                 \n",
      " dropout (Dropout)           (None, 512)               0         \n",
      "                                                                 \n",
      " dense_1 (Dense)             (None, 1)                 513       \n",
      "                                                                 \n",
      " activation_7 (Activation)   (None, 1)                 0         \n",
      "                                                                 \n",
      "=================================================================\n",
      "Total params: 13,133,409\n",
      "Trainable params: 13,132,961\n",
      "Non-trainable params: 448\n",
      "_________________________________________________________________\n"
     ]
    }
   ],
   "source": [
    "model_CNN_v1.summary()"
   ]
  },
  {
   "cell_type": "code",
   "execution_count": 15,
   "id": "cf45748c",
   "metadata": {
    "colab": {
     "base_uri": "https://localhost:8080/"
    },
    "id": "cf45748c",
    "outputId": "ce0a9ee2-98e1-49f4-d936-522ecc527a3c"
   },
   "outputs": [
    {
     "name": "stdout",
     "output_type": "stream",
     "text": [
      "Using real-time data augmentation.\n",
      "Epoch 1/20\n",
      "41/41 [==============================] - ETA: 0s - loss: 0.4463 - accuracy: 0.8301WARNING:tensorflow:Keras is training/fitting/evaluating on array-like data. Keras may not be optimized for this format, so if your input data format is supported by TensorFlow I/O (https://github.com/tensorflow/io) we recommend using that to load a Dataset instead.\n",
      "41/41 [==============================] - 22s 428ms/step - loss: 0.4463 - accuracy: 0.8301 - val_loss: 0.6635 - val_accuracy: 0.6250\n",
      "Epoch 2/20\n",
      "41/41 [==============================] - 14s 347ms/step - loss: 0.2380 - accuracy: 0.9087 - val_loss: 0.6757 - val_accuracy: 0.6250\n",
      "Epoch 3/20\n",
      "41/41 [==============================] - 14s 348ms/step - loss: 0.2104 - accuracy: 0.9204 - val_loss: 0.7666 - val_accuracy: 0.6250\n",
      "Epoch 4/20\n",
      "41/41 [==============================] - 14s 347ms/step - loss: 0.1780 - accuracy: 0.9291 - val_loss: 0.8408 - val_accuracy: 0.6250\n",
      "Epoch 5/20\n",
      "41/41 [==============================] - 14s 347ms/step - loss: 0.1529 - accuracy: 0.9375 - val_loss: 0.9826 - val_accuracy: 0.6250\n",
      "Epoch 6/20\n",
      "41/41 [==============================] - 14s 348ms/step - loss: 0.1526 - accuracy: 0.9419 - val_loss: 1.2439 - val_accuracy: 0.6250\n",
      "Epoch 7/20\n",
      "41/41 [==============================] - 14s 348ms/step - loss: 0.1435 - accuracy: 0.9425 - val_loss: 1.5639 - val_accuracy: 0.6250\n",
      "Epoch 8/20\n",
      "41/41 [==============================] - 14s 347ms/step - loss: 0.1357 - accuracy: 0.9433 - val_loss: 1.7326 - val_accuracy: 0.6250\n",
      "Epoch 9/20\n",
      "41/41 [==============================] - 14s 348ms/step - loss: 0.1351 - accuracy: 0.9480 - val_loss: 1.9320 - val_accuracy: 0.6250\n",
      "Epoch 10/20\n",
      "41/41 [==============================] - 15s 349ms/step - loss: 0.1213 - accuracy: 0.9526 - val_loss: 2.1207 - val_accuracy: 0.6250\n",
      "Epoch 11/20\n",
      "41/41 [==============================] - 14s 348ms/step - loss: 0.1166 - accuracy: 0.9569 - val_loss: 2.1480 - val_accuracy: 0.6250\n",
      "Epoch 12/20\n",
      "41/41 [==============================] - 15s 348ms/step - loss: 0.1102 - accuracy: 0.9571 - val_loss: 1.8568 - val_accuracy: 0.6250\n",
      "Epoch 13/20\n",
      "41/41 [==============================] - 14s 348ms/step - loss: 0.1118 - accuracy: 0.9584 - val_loss: 1.6041 - val_accuracy: 0.6266\n",
      "Epoch 14/20\n",
      "41/41 [==============================] - 15s 362ms/step - loss: 0.1036 - accuracy: 0.9618 - val_loss: 1.4339 - val_accuracy: 0.6362\n",
      "Epoch 15/20\n",
      "41/41 [==============================] - 14s 349ms/step - loss: 0.1035 - accuracy: 0.9611 - val_loss: 1.1953 - val_accuracy: 0.6571\n",
      "Epoch 16/20\n",
      "41/41 [==============================] - 14s 348ms/step - loss: 0.1022 - accuracy: 0.9630 - val_loss: 0.8724 - val_accuracy: 0.7147\n",
      "Epoch 17/20\n",
      "41/41 [==============================] - 15s 354ms/step - loss: 0.1022 - accuracy: 0.9597 - val_loss: 0.7507 - val_accuracy: 0.7404\n",
      "Epoch 18/20\n",
      "41/41 [==============================] - 14s 348ms/step - loss: 0.0973 - accuracy: 0.9611 - val_loss: 0.8566 - val_accuracy: 0.7292\n",
      "Epoch 19/20\n",
      "41/41 [==============================] - 14s 348ms/step - loss: 0.0981 - accuracy: 0.9634 - val_loss: 0.7409 - val_accuracy: 0.7628\n",
      "Epoch 20/20\n",
      "41/41 [==============================] - 15s 349ms/step - loss: 0.0987 - accuracy: 0.9618 - val_loss: 0.7523 - val_accuracy: 0.7676\n",
      "The elapsed time for the parallelized code when using only one GPU is: 301.18750834465027\n"
     ]
    }
   ],
   "source": [
    "start1_CNN = time.time()\n",
    "# Data_augmentation\n",
    "if not data_augmentation:\n",
    "    print('Not using data augmentation.')\n",
    "    # Zifeng Edited\n",
    "    history_CNN_v1 = model_CNN_v1.fit(train_images, train_labels,\n",
    "              batch_size = batch_size,\n",
    "              epochs = epochs,\n",
    "              validation_data = (test_images, test_labels),\n",
    "              shuffle = True)\n",
    "else:\n",
    "    print('Using real-time data augmentation.')\n",
    "    # This will do preprocessing and realtime data augmentation:\n",
    "    datagen = ImageDataGenerator(\n",
    "        # set input mean to 0 over the dataset\n",
    "        featurewise_center=False,\n",
    "        # set each sample mean to 0\n",
    "        samplewise_center=False,\n",
    "        # divide inputs by std of dataset\n",
    "        featurewise_std_normalization=False,\n",
    "        # divide each input by its std\n",
    "        samplewise_std_normalization=False,\n",
    "        # apply ZCA whitening\n",
    "        zca_whitening=False,\n",
    "        # epsilon for ZCA whitening\n",
    "        zca_epsilon=1e-06,\n",
    "        # randomly rotate images in the range (deg 0 to 180)\n",
    "        rotation_range=0,\n",
    "        # randomly shift images horizontally\n",
    "        width_shift_range=0.1,\n",
    "        # randomly shift images vertically\n",
    "        height_shift_range=0.1,\n",
    "        # set range for random shear\n",
    "        shear_range=0.,\n",
    "        # set range for random zoom\n",
    "        zoom_range=0.,\n",
    "        # set range for random channel shifts\n",
    "        channel_shift_range=0.,\n",
    "        # set mode for filling points outside the input boundaries\n",
    "        fill_mode='nearest',\n",
    "        # value used for fill_mode = \"constant\"\n",
    "        cval=0.,\n",
    "        # randomly flip images\n",
    "        horizontal_flip=True,\n",
    "        # randomly flip images\n",
    "        vertical_flip=False,\n",
    "        # set rescaling factor (applied before any other transformation)\n",
    "        rescale=None,\n",
    "        # set function that will be applied on each input\n",
    "        preprocessing_function=None,\n",
    "        # image data format, either \"channels_first\" or \"channels_last\"\n",
    "        data_format=None,\n",
    "        # fraction of images reserved for validation (strictly between 0 and 1)\n",
    "        validation_split=0.0)\n",
    "\n",
    "    # Compute quantities required for featurewise normalization\n",
    "    # (std, mean, and principal components if ZCA whitening is applied).\n",
    "    datagen.fit(train_images)\n",
    "\n",
    "    # Fit the model on the batches generated by datagen.flow().\n",
    "    # Zifeng Edited\n",
    "    history_CNN_v1 = model_CNN_v1.fit(datagen.flow(train_images_dask, train_labels, batch_size = batch_size),\n",
    "                        validation_data = (test_images_dask, test_labels),\n",
    "                        epochs = epochs, verbose = 1)\n",
    "end1_CNN = time.time()\n",
    "t1 = end1_CNN - start1_CNN\n",
    "print(\"The elapsed time for the parallelized code when using only one GPU is:\",t1)"
   ]
  },
  {
   "cell_type": "code",
   "execution_count": 16,
   "id": "ed5c2ff7",
   "metadata": {
    "colab": {
     "base_uri": "https://localhost:8080/",
     "height": 629
    },
    "id": "ed5c2ff7",
    "outputId": "3a9f7fac-626b-41b7-a668-820f286d457a"
   },
   "outputs": [
    {
     "data": {
      "image/png": "[encoded data removed]",
      "text/plain": [
       "<Figure size 432x288 with 1 Axes>"
      ]
     },
     "metadata": {
      "needs_background": "light"
     },
     "output_type": "display_data"
    },
    {
     "data": {
      "image/png": "[encoded data removed]",
      "text/plain": [
       "<Figure size 432x288 with 1 Axes>"
      ]
     },
     "metadata": {
      "needs_background": "light"
     },
     "output_type": "display_data"
    },
    {
     "name": "stdout",
     "output_type": "stream",
     "text": [
      "WARNING:tensorflow:Keras is training/fitting/evaluating on array-like data. Keras may not be optimized for this format, so if your input data format is supported by TensorFlow I/O (https://github.com/tensorflow/io) we recommend using that to load a Dataset instead.\n",
      "20/20 - 1s - loss: 0.7523 - accuracy: 0.7676 - 785ms/epoch - 39ms/step\n"
     ]
    }
   ],
   "source": [
    "# Plot the accuracy values of training and testing sets\n",
    "plt.plot(history_CNN_v1.history['accuracy'])\n",
    "plt.plot(history_CNN_v1.history['val_accuracy'])\n",
    "plt.title('Model accuracy')\n",
    "plt.ylabel('Accuracy')\n",
    "plt.xlabel('Epoch')\n",
    "plt.legend(['Train', 'Test'], loc='upper left')\n",
    "plt.show()\n",
    "\n",
    "# Plot the loss values for training and testing sets\n",
    "plt.plot(history_CNN_v1.history['loss']) \n",
    "plt.plot(history_CNN_v1.history['val_loss'])\n",
    "plt.title('Model loss')\n",
    "plt.ylabel('Loss')\n",
    "plt.xlabel('Epoch')\n",
    "plt.legend(['Train', 'Valid'], loc='upper left')\n",
    "plt.show()\n",
    "\n",
    "test_loss, test_acc = model_CNN_v1.evaluate(test_images_dask,  test_labels, verbose = 2)"
   ]
  },
  {
   "cell_type": "markdown",
   "id": "2b829df4",
   "metadata": {
    "id": "2b829df4"
   },
   "source": [
    "### 2.2 model_CNN GPU Mirrored Strategy"
   ]
  },
  {
   "cell_type": "code",
   "execution_count": 17,
   "id": "bcf09b58",
   "metadata": {
    "id": "bcf09b58"
   },
   "outputs": [],
   "source": [
    "# initiate hyper-parameters\n",
    "batch_size = 128\n",
    "epochs = 20\n",
    "data_augmentation = True\n",
    "opt = tf.keras.optimizers.Adam(learning_rate = 0.00001)"
   ]
  },
  {
   "cell_type": "code",
   "execution_count": 18,
   "id": "72cf2117",
   "metadata": {
    "colab": {
     "base_uri": "https://localhost:8080/"
    },
    "id": "72cf2117",
    "outputId": "979fb261-127d-45ea-99c2-2d141468a733"
   },
   "outputs": [
    {
     "name": "stdout",
     "output_type": "stream",
     "text": [
      "INFO:tensorflow:Using MirroredStrategy with devices ('/job:localhost/replica:0/task:0/device:GPU:0',)\n",
      "INFO:tensorflow:Reduce to /job:localhost/replica:0/task:0/device:CPU:0 then broadcast to ('/job:localhost/replica:0/task:0/device:CPU:0',).\n",
      "INFO:tensorflow:Reduce to /job:localhost/replica:0/task:0/device:CPU:0 then broadcast to ('/job:localhost/replica:0/task:0/device:CPU:0',).\n",
      "INFO:tensorflow:Reduce to /job:localhost/replica:0/task:0/device:CPU:0 then broadcast to ('/job:localhost/replica:0/task:0/device:CPU:0',).\n",
      "INFO:tensorflow:Reduce to /job:localhost/replica:0/task:0/device:CPU:0 then broadcast to ('/job:localhost/replica:0/task:0/device:CPU:0',).\n",
      "INFO:tensorflow:Reduce to /job:localhost/replica:0/task:0/device:CPU:0 then broadcast to ('/job:localhost/replica:0/task:0/device:CPU:0',).\n",
      "INFO:tensorflow:Reduce to /job:localhost/replica:0/task:0/device:CPU:0 then broadcast to ('/job:localhost/replica:0/task:0/device:CPU:0',).\n",
      "INFO:tensorflow:Reduce to /job:localhost/replica:0/task:0/device:CPU:0 then broadcast to ('/job:localhost/replica:0/task:0/device:CPU:0',).\n",
      "INFO:tensorflow:Reduce to /job:localhost/replica:0/task:0/device:CPU:0 then broadcast to ('/job:localhost/replica:0/task:0/device:CPU:0',).\n",
      "INFO:tensorflow:Reduce to /job:localhost/replica:0/task:0/device:CPU:0 then broadcast to ('/job:localhost/replica:0/task:0/device:CPU:0',).\n",
      "INFO:tensorflow:Reduce to /job:localhost/replica:0/task:0/device:CPU:0 then broadcast to ('/job:localhost/replica:0/task:0/device:CPU:0',).\n"
     ]
    }
   ],
   "source": [
    "K.clear_session() # Clear the memory occupied by the previous model to prevent OOM\n",
    "\n",
    "strategy2 = tf.distribute.MirroredStrategy(devices = devices_names[:1])\n",
    "with strategy2.scope():\n",
    "    model_CNN_v2 = Sequential()\n",
    "    model_CNN_v2.add(Conv2D(32, (3, 3), padding = 'same',  # 32，(5,5) is the number and size of the convolution kernel\n",
    "                     input_shape = train_images.shape[1:]))  # The first layer needs to indicate the size of the image\n",
    "    model_CNN_v2.add(Activation('relu'))\n",
    "    model_CNN_v2.add(Conv2D(32, (3, 3))) # Convolutional layer\n",
    "    model_CNN_v2.add(Activation('relu'))\n",
    "    model_CNN_v2.add(BatchNormalization())\n",
    "    model_CNN_v2.add(MaxPooling2D(pool_size=(2, 2))) # Pooling layer\n",
    "\n",
    "    model_CNN_v2.add(Conv2D(64, (3, 3), padding='same')) # Convolutional layer\n",
    "    model_CNN_v2.add(Activation('relu'))\n",
    "    model_CNN_v2.add(Conv2D(64, (3, 3))) # Convolutional layer\n",
    "    model_CNN_v2.add(Activation('relu'))\n",
    "    model_CNN_v2.add(BatchNormalization())\n",
    "    model_CNN_v2.add(MaxPooling2D(pool_size=(2, 2))) # Pooling layer\n",
    "\n",
    "    model_CNN_v2.add(Conv2D(128, (3, 3), padding='same')) # Convolutional layer\n",
    "    model_CNN_v2.add(Activation('relu'))\n",
    "    model_CNN_v2.add(Conv2D(128, (3, 3))) # Convolutional layer\n",
    "    model_CNN_v2.add(Activation('relu'))\n",
    "    model_CNN_v2.add(BatchNormalization())\n",
    "    model_CNN_v2.add(MaxPooling2D(pool_size=(2, 2))) # Pooling layer\n",
    "\n",
    "    model_CNN_v2.add(Flatten())\n",
    "    model_CNN_v2.add(Dense(512)) # Fully connected layer\n",
    "    model_CNN_v2.add(Activation('relu'))\n",
    "    model_CNN_v2.add(Dropout(0.5)) # Dropout layer\n",
    "    model_CNN_v2.add(Dense(1)) # Output layer\n",
    "    model_CNN_v2.add(Activation('sigmoid'))\n",
    "\n",
    "\n",
    "\n",
    "    # Let's compile the model  \n",
    "    model_CNN_v2.compile(loss = 'binary_crossentropy',\n",
    "                  optimizer = opt,\n",
    "                  metrics = ['accuracy'])\n"
   ]
  },
  {
   "cell_type": "code",
   "execution_count": 19,
   "id": "71f0efbb",
   "metadata": {
    "colab": {
     "base_uri": "https://localhost:8080/"
    },
    "id": "71f0efbb",
    "outputId": "be06ef5b-5dd0-4825-c96c-4cc5cd624729"
   },
   "outputs": [
    {
     "name": "stdout",
     "output_type": "stream",
     "text": [
      "Using real-time data augmentation.\n",
      "Epoch 1/20\n",
      "41/41 [==============================] - ETA: 0s - loss: 0.4361 - accuracy: 0.8336WARNING:tensorflow:Keras is training/fitting/evaluating on array-like data. Keras may not be optimized for this format, so if your input data format is supported by TensorFlow I/O (https://github.com/tensorflow/io) we recommend using that to load a Dataset instead.\n",
      "41/41 [==============================] - 19s 361ms/step - loss: 0.4361 - accuracy: 0.8336 - val_loss: 0.6628 - val_accuracy: 0.6250\n",
      "Epoch 2/20\n",
      "41/41 [==============================] - 15s 350ms/step - loss: 0.2524 - accuracy: 0.9061 - val_loss: 0.6605 - val_accuracy: 0.6250\n",
      "Epoch 3/20\n",
      "41/41 [==============================] - 15s 350ms/step - loss: 0.2009 - accuracy: 0.9250 - val_loss: 0.6881 - val_accuracy: 0.6250\n",
      "Epoch 4/20\n",
      "41/41 [==============================] - 15s 350ms/step - loss: 0.1772 - accuracy: 0.9283 - val_loss: 0.7200 - val_accuracy: 0.6250\n",
      "Epoch 5/20\n",
      "41/41 [==============================] - 15s 350ms/step - loss: 0.1643 - accuracy: 0.9342 - val_loss: 0.7806 - val_accuracy: 0.6250\n",
      "Epoch 6/20\n",
      "41/41 [==============================] - 15s 350ms/step - loss: 0.1428 - accuracy: 0.9434 - val_loss: 0.9050 - val_accuracy: 0.6250\n",
      "Epoch 7/20\n",
      "41/41 [==============================] - 15s 351ms/step - loss: 0.1429 - accuracy: 0.9463 - val_loss: 1.0639 - val_accuracy: 0.6250\n",
      "Epoch 8/20\n",
      "41/41 [==============================] - 15s 350ms/step - loss: 0.1336 - accuracy: 0.9467 - val_loss: 1.2621 - val_accuracy: 0.6250\n",
      "Epoch 9/20\n",
      "41/41 [==============================] - 15s 350ms/step - loss: 0.1275 - accuracy: 0.9494 - val_loss: 1.5547 - val_accuracy: 0.6250\n",
      "Epoch 10/20\n",
      "41/41 [==============================] - 15s 351ms/step - loss: 0.1311 - accuracy: 0.9488 - val_loss: 1.7179 - val_accuracy: 0.6250\n",
      "Epoch 11/20\n",
      "41/41 [==============================] - 15s 350ms/step - loss: 0.1201 - accuracy: 0.9540 - val_loss: 1.8558 - val_accuracy: 0.6250\n",
      "Epoch 12/20\n",
      "41/41 [==============================] - 15s 350ms/step - loss: 0.1087 - accuracy: 0.9572 - val_loss: 1.9045 - val_accuracy: 0.6250\n",
      "Epoch 13/20\n",
      "41/41 [==============================] - 15s 349ms/step - loss: 0.1122 - accuracy: 0.9553 - val_loss: 1.6409 - val_accuracy: 0.6250\n",
      "Epoch 14/20\n",
      "41/41 [==============================] - 15s 351ms/step - loss: 0.1051 - accuracy: 0.9594 - val_loss: 1.5153 - val_accuracy: 0.6346\n",
      "Epoch 15/20\n",
      "41/41 [==============================] - 15s 351ms/step - loss: 0.1046 - accuracy: 0.9607 - val_loss: 1.2779 - val_accuracy: 0.6506\n",
      "Epoch 16/20\n",
      "41/41 [==============================] - 15s 351ms/step - loss: 0.0966 - accuracy: 0.9609 - val_loss: 1.1772 - val_accuracy: 0.6763\n",
      "Epoch 17/20\n",
      "41/41 [==============================] - 15s 350ms/step - loss: 0.0979 - accuracy: 0.9624 - val_loss: 0.9392 - val_accuracy: 0.7131\n",
      "Epoch 18/20\n",
      "41/41 [==============================] - 15s 351ms/step - loss: 0.0986 - accuracy: 0.9613 - val_loss: 0.8220 - val_accuracy: 0.7324\n",
      "Epoch 19/20\n",
      "41/41 [==============================] - 15s 351ms/step - loss: 0.1025 - accuracy: 0.9609 - val_loss: 0.7692 - val_accuracy: 0.7484\n",
      "Epoch 20/20\n",
      "41/41 [==============================] - 15s 350ms/step - loss: 0.0937 - accuracy: 0.9655 - val_loss: 0.8084 - val_accuracy: 0.7516\n",
      "The elapsed time for the parallelized code when using Mirrored Strategy str GPU is: 299.366112947464\n"
     ]
    }
   ],
   "source": [
    "start2_CNN = time.time()\n",
    "# Data_augmentation\n",
    "if not data_augmentation:\n",
    "    print('Not using data augmentation.')\n",
    "    # Zifeng Edited\n",
    "    history_CNN_v2 = model_CNN_v2.fit(train_images, train_labels,\n",
    "              batch_size = batch_size,\n",
    "              epochs = epochs,\n",
    "              validation_data = (test_images, test_labels),\n",
    "              shuffle = True)\n",
    "else:\n",
    "    print('Using real-time data augmentation.')\n",
    "    # This will do preprocessing and realtime data augmentation:\n",
    "    datagen = ImageDataGenerator(\n",
    "        # set input mean to 0 over the dataset\n",
    "        featurewise_center=False,\n",
    "        # set each sample mean to 0\n",
    "        samplewise_center=False,\n",
    "        # divide inputs by std of dataset\n",
    "        featurewise_std_normalization=False,\n",
    "        # divide each input by its std\n",
    "        samplewise_std_normalization=False,\n",
    "        # apply ZCA whitening\n",
    "        zca_whitening=False,\n",
    "        # epsilon for ZCA whitening\n",
    "        zca_epsilon=1e-06,\n",
    "        # randomly rotate images in the range (deg 0 to 180)\n",
    "        rotation_range=0,\n",
    "        # randomly shift images horizontally\n",
    "        width_shift_range=0.1,\n",
    "        # randomly shift images vertically\n",
    "        height_shift_range=0.1,\n",
    "        # set range for random shear\n",
    "        shear_range=0.,\n",
    "        # set range for random zoom\n",
    "        zoom_range=0.,\n",
    "        # set range for random channel shifts\n",
    "        channel_shift_range=0.,\n",
    "        # set mode for filling points outside the input boundaries\n",
    "        fill_mode='nearest',\n",
    "        # value used for fill_mode = \"constant\"\n",
    "        cval=0.,\n",
    "        # randomly flip images\n",
    "        horizontal_flip=True,\n",
    "        # randomly flip images\n",
    "        vertical_flip=False,\n",
    "        # set rescaling factor (applied before any other transformation)\n",
    "        rescale=None,\n",
    "        # set function that will be applied on each input\n",
    "        preprocessing_function=None,\n",
    "        # image data format, either \"channels_first\" or \"channels_last\"\n",
    "        data_format=None,\n",
    "        # fraction of images reserved for validation (strictly between 0 and 1)\n",
    "        validation_split=0.0)\n",
    "\n",
    "    # Compute quantities required for featurewise normalization\n",
    "    # (std, mean, and principal components if ZCA whitening is applied).\n",
    "    datagen.fit(train_images)\n",
    "\n",
    "    # Fit the model on the batches generated by datagen.flow().\n",
    "    # Zifeng Edited\n",
    "    history_CNN_v2 = model_CNN_v2.fit(datagen.flow(train_images_dask, train_labels, batch_size = batch_size),\n",
    "                        validation_data = (test_images_dask, test_labels),\n",
    "                        epochs = epochs, verbose = 1, workers = 2)\n",
    "end2_CNN = time.time()\n",
    "t2 = end2_CNN - start2_CNN\n",
    "print(\"The elapsed time for the parallelized code when using Mirrored Strategy str GPU is:\",t2)"
   ]
  },
  {
   "cell_type": "markdown",
   "id": "065804a1",
   "metadata": {
    "id": "065804a1"
   },
   "source": [
    "## Part 3: ResNets\n",
    "In this part, we are going to build a ResNet pretrained model.\n",
    "### 3.1 Using a ResNet pretrained model\n",
    "Before that, we have to know that all the pretrained model can only deal with RGB 3 channel images. But our images are greyscale images which just have 1 channel. So we have to convert our greyscale images to RGB 3 channel images."
   ]
  },
  {
   "cell_type": "code",
   "execution_count": 20,
   "id": "f2bd2d40",
   "metadata": {
    "id": "f2bd2d40"
   },
   "outputs": [],
   "source": [
    "def expand_greyscale_image_channels(grey_image):\n",
    "    grey_image_arr_3_channel = grey_image.repeat(3, axis = -1)\n",
    "    return grey_image_arr_3_channel"
   ]
  },
  {
   "cell_type": "code",
   "execution_count": 21,
   "id": "1c3af08c",
   "metadata": {
    "colab": {
     "base_uri": "https://localhost:8080/"
    },
    "id": "1c3af08c",
    "outputId": "fb6e0f2b-64c0-41e3-9e73-f63c4db60409"
   },
   "outputs": [
    {
     "name": "stdout",
     "output_type": "stream",
     "text": [
      "The elapsed time for the dask array colorize: 1.5908441543579102\n"
     ]
    }
   ],
   "source": [
    "start2_numpy = time.time()\n",
    "x_train_3 = expand_greyscale_image_channels(train_images)\n",
    "x_test_3 = expand_greyscale_image_channels(test_images)\n",
    "end2_numpy = time.time()\n",
    "tn2 = end2_numpy - start2_numpy\n",
    "print(\"The elapsed time for the dask array colorize:\",tn2)"
   ]
  },
  {
   "cell_type": "code",
   "execution_count": 22,
   "id": "28dc8366",
   "metadata": {
    "colab": {
     "base_uri": "https://localhost:8080/"
    },
    "id": "28dc8366",
    "outputId": "1134a56d-172e-4317-860f-bfc006b5ec65"
   },
   "outputs": [
    {
     "name": "stdout",
     "output_type": "stream",
     "text": [
      "The elapsed time for the dask array colorize is: 0.009262561798095703\n"
     ]
    }
   ],
   "source": [
    "start2_dask = time.time()\n",
    "x_train_3 = expand_greyscale_image_channels(train_images_dask)\n",
    "x_test_3 = expand_greyscale_image_channels(test_images_dask)\n",
    "end2_dask = time.time()\n",
    "td2 = end2_dask - start2_dask\n",
    "print(\"The elapsed time for the dask array colorize is:\",td2)"
   ]
  },
  {
   "cell_type": "code",
   "execution_count": 23,
   "id": "1980e148",
   "metadata": {
    "colab": {
     "base_uri": "https://localhost:8080/"
    },
    "id": "1980e148",
    "outputId": "15f7cf48-38fd-4d9b-e914-a82d2dbb6a2f"
   },
   "outputs": [
    {
     "data": {
      "text/plain": [
       "(5216, 128, 128, 3)"
      ]
     },
     "execution_count": 23,
     "metadata": {},
     "output_type": "execute_result"
    }
   ],
   "source": [
    "x_train_3.shape"
   ]
  },
  {
   "cell_type": "code",
   "execution_count": 24,
   "id": "788819f4",
   "metadata": {
    "colab": {
     "base_uri": "https://localhost:8080/"
    },
    "id": "788819f4",
    "outputId": "6f4d29d9-0cd3-4760-95a6-7645332af1c3"
   },
   "outputs": [
    {
     "data": {
      "text/plain": [
       "(624, 128, 128, 3)"
      ]
     },
     "execution_count": 24,
     "metadata": {},
     "output_type": "execute_result"
    }
   ],
   "source": [
    "x_test_3.shape"
   ]
  },
  {
   "cell_type": "code",
   "execution_count": 25,
   "id": "d53c777f",
   "metadata": {
    "colab": {
     "base_uri": "https://localhost:8080/"
    },
    "id": "d53c777f",
    "outputId": "b48d624d-2046-4e31-e541-27e91b6f6c13"
   },
   "outputs": [
    {
     "data": {
      "text/plain": [
       "(5216,)"
      ]
     },
     "execution_count": 25,
     "metadata": {},
     "output_type": "execute_result"
    }
   ],
   "source": [
    "train_labels.shape"
   ]
  },
  {
   "cell_type": "code",
   "execution_count": 26,
   "id": "c700db5f",
   "metadata": {
    "colab": {
     "base_uri": "https://localhost:8080/"
    },
    "id": "c700db5f",
    "outputId": "75a5932a-4a23-4a76-ed2b-d7d5c0b495e1"
   },
   "outputs": [
    {
     "data": {
      "text/plain": [
       "(624,)"
      ]
     },
     "execution_count": 26,
     "metadata": {},
     "output_type": "execute_result"
    }
   ],
   "source": [
    "test_labels.shape"
   ]
  },
  {
   "cell_type": "markdown",
   "id": "O2YHTndncYHu",
   "metadata": {
    "id": "O2YHTndncYHu"
   },
   "source": [
    "### 3.2 Also try One Device Strategy first"
   ]
  },
  {
   "cell_type": "code",
   "execution_count": 27,
   "id": "d95c7014",
   "metadata": {
    "id": "d95c7014"
   },
   "outputs": [],
   "source": [
    "# Training hyper-parameters\n",
    "batch_size = 32\n",
    "epochs = 10\n",
    "data_augmentation = True"
   ]
  },
  {
   "cell_type": "code",
   "execution_count": 28,
   "id": "5f6081ac",
   "metadata": {
    "id": "5f6081ac"
   },
   "outputs": [],
   "source": [
    "K.clear_session()\n",
    "\n",
    "strategy_r1 = tf.distribute.OneDeviceStrategy(device = \"GPU:0\")\n",
    "with strategy_r1.scope():\n",
    "    resnet_model = Sequential()\n",
    "    pretrained_model = tf.keras.applications.ResNet50(# Let try ResNet50\n",
    "                        include_top = False,\n",
    "                        input_shape = x_train_3.shape[1:],\n",
    "                        pooling = 'max',\n",
    "                        classes = 2,\n",
    "                        weights = 'imagenet')\n",
    "\n",
    "    resnet_model.add(pretrained_model)\n",
    "    resnet_model.add(Flatten())\n",
    "    resnet_model.add(Dense(512, activation = 'relu'))\n",
    "    resnet_model.add(Dense(1, activation = 'sigmoid'))\n",
    "    resnet_model.compile(optimizer = Adam(learning_rate = 0.00001), loss = 'binary_crossentropy', metrics = ['accuracy'])"
   ]
  },
  {
   "cell_type": "code",
   "execution_count": 29,
   "id": "0b8273a5",
   "metadata": {
    "colab": {
     "base_uri": "https://localhost:8080/"
    },
    "id": "0b8273a5",
    "outputId": "f3259f45-2b12-4d5d-a2cc-d5e39051a472"
   },
   "outputs": [
    {
     "name": "stdout",
     "output_type": "stream",
     "text": [
      "Model: \"sequential\"\n",
      "_________________________________________________________________\n",
      " Layer (type)                Output Shape              Param #   \n",
      "=================================================================\n",
      " resnet50 (Functional)       (None, 2048)              23587712  \n",
      "                                                                 \n",
      " flatten (Flatten)           (None, 2048)              0         \n",
      "                                                                 \n",
      " dense (Dense)               (None, 512)               1049088   \n",
      "                                                                 \n",
      " dense_1 (Dense)             (None, 1)                 513       \n",
      "                                                                 \n",
      "=================================================================\n",
      "Total params: 24,637,313\n",
      "Trainable params: 24,584,193\n",
      "Non-trainable params: 53,120\n",
      "_________________________________________________________________\n"
     ]
    }
   ],
   "source": [
    "resnet_model.summary()"
   ]
  },
  {
   "cell_type": "code",
   "execution_count": 30,
   "id": "9dd4c612",
   "metadata": {
    "colab": {
     "base_uri": "https://localhost:8080/"
    },
    "id": "9dd4c612",
    "outputId": "d04e4796-58e9-4613-c47a-9fa06c6c3dd3"
   },
   "outputs": [
    {
     "name": "stdout",
     "output_type": "stream",
     "text": [
      "Using real-time data augmentation.\n",
      "Epoch 1/10\n",
      "163/163 [==============================] - ETA: 0s - loss: 0.3508 - accuracy: 0.8809WARNING:tensorflow:Keras is training/fitting/evaluating on array-like data. Keras may not be optimized for this format, so if your input data format is supported by TensorFlow I/O (https://github.com/tensorflow/io) we recommend using that to load a Dataset instead.\n",
      "163/163 [==============================] - 57s 309ms/step - loss: 0.3508 - accuracy: 0.8809 - val_loss: 28.6849 - val_accuracy: 0.6250\n",
      "Epoch 2/10\n",
      "163/163 [==============================] - 49s 301ms/step - loss: 0.1807 - accuracy: 0.9365 - val_loss: 78.2034 - val_accuracy: 0.6250\n",
      "Epoch 3/10\n",
      "163/163 [==============================] - 49s 300ms/step - loss: 0.1343 - accuracy: 0.9473 - val_loss: 45.2849 - val_accuracy: 0.6250\n",
      "Epoch 4/10\n",
      "163/163 [==============================] - 49s 299ms/step - loss: 0.1099 - accuracy: 0.9624 - val_loss: 10.7176 - val_accuracy: 0.6250\n",
      "Epoch 5/10\n",
      "163/163 [==============================] - 49s 299ms/step - loss: 0.1016 - accuracy: 0.9638 - val_loss: 2.1119 - val_accuracy: 0.6234\n",
      "Epoch 6/10\n",
      "163/163 [==============================] - 49s 300ms/step - loss: 0.0844 - accuracy: 0.9674 - val_loss: 2.4511 - val_accuracy: 0.6250\n",
      "Epoch 7/10\n",
      "163/163 [==============================] - 49s 299ms/step - loss: 0.0774 - accuracy: 0.9728 - val_loss: 1.3789 - val_accuracy: 0.6923\n",
      "Epoch 8/10\n",
      "163/163 [==============================] - 49s 299ms/step - loss: 0.0747 - accuracy: 0.9732 - val_loss: 1.3427 - val_accuracy: 0.7179\n",
      "Epoch 9/10\n",
      "163/163 [==============================] - 49s 300ms/step - loss: 0.0657 - accuracy: 0.9753 - val_loss: 1.3142 - val_accuracy: 0.7276\n",
      "Epoch 10/10\n",
      "163/163 [==============================] - 49s 299ms/step - loss: 0.0631 - accuracy: 0.9780 - val_loss: 1.3299 - val_accuracy: 0.7308\n",
      "The elapsed time for the parallelized code when using One Device Strategy is: 506.8704135417938\n"
     ]
    }
   ],
   "source": [
    "start1_ResNet = time.time()\n",
    "# Run training, with or without data augmentation.\n",
    "if not data_augmentation:\n",
    "    print('Not using data augmentation.')\n",
    "    # Zifeng Edited\n",
    "    history_resnet_model = resnet_model.fit(x_train_3, y_train,\n",
    "              batch_size=batch_size,\n",
    "              epochs=epochs,\n",
    "              validation_data=(x_test_3, y_test),\n",
    "              shuffle=True)\n",
    "else:\n",
    "    print('Using real-time data augmentation.')\n",
    "    # This will do preprocessing and realtime data augmentation:\n",
    "    datagen = ImageDataGenerator(\n",
    "        # set input mean to 0 over the dataset\n",
    "        featurewise_center=False,\n",
    "        # set each sample mean to 0\n",
    "        samplewise_center=False,\n",
    "        # divide inputs by std of dataset\n",
    "        featurewise_std_normalization=False,\n",
    "        # divide each input by its std\n",
    "        samplewise_std_normalization=False,\n",
    "        # apply ZCA whitening\n",
    "        zca_whitening=False,\n",
    "        # epsilon for ZCA whitening\n",
    "        zca_epsilon=1e-06,\n",
    "        # randomly rotate images in the range (deg 0 to 180)\n",
    "        rotation_range=0,\n",
    "        # randomly shift images horizontally\n",
    "        width_shift_range=0.1,\n",
    "        # randomly shift images vertically\n",
    "        height_shift_range=0.1,\n",
    "        # set range for random shear\n",
    "        shear_range=0.,\n",
    "        # set range for random zoom\n",
    "        zoom_range=0.,\n",
    "        # set range for random channel shifts\n",
    "        channel_shift_range=0.,\n",
    "        # set mode for filling points outside the input boundaries\n",
    "        fill_mode='nearest',\n",
    "        # value used for fill_mode = \"constant\"\n",
    "        cval=0.,\n",
    "        # randomly flip images\n",
    "        horizontal_flip=True,\n",
    "        # randomly flip images\n",
    "        vertical_flip=False,\n",
    "        # set rescaling factor (applied before any other transformation)\n",
    "        rescale=None,\n",
    "        # set function that will be applied on each input\n",
    "        preprocessing_function=None,\n",
    "        # image data format, either \"channels_first\" or \"channels_last\"\n",
    "        data_format=None,\n",
    "        # fraction of images reserved for validation (strictly between 0 and 1)\n",
    "        validation_split=0.0)\n",
    "\n",
    "    # Compute quantities required for featurewise normalization\n",
    "    # (std, mean, and principal components if ZCA whitening is applied).\n",
    "    datagen.fit(x_train_3)\n",
    "\n",
    "    # Fit the model on the batches generated by datagen.flow().\n",
    "    # Zifeng Edited\n",
    "    history_resnet_model = resnet_model.fit(datagen.flow(x_train_3, train_labels, batch_size=batch_size),\n",
    "                        validation_data=(x_test_3, test_labels),\n",
    "                        epochs=epochs, verbose=1, workers=10)\n",
    "\n",
    "end1_ResNet = time.time()\n",
    "tr1 = end1_ResNet - start1_ResNet\n",
    "print(\"The elapsed time for the parallelized code when using One Device Strategy is:\",tr1)"
   ]
  },
  {
   "cell_type": "code",
   "execution_count": 31,
   "id": "cb9092c4",
   "metadata": {
    "colab": {
     "base_uri": "https://localhost:8080/",
     "height": 573
    },
    "id": "cb9092c4",
    "outputId": "34fd2dab-3400-4668-a7e6-92113847fac2"
   },
   "outputs": [
    {
     "data": {
      "image/png": "[encoded data removed]",
      "text/plain": [
       "<Figure size 432x288 with 1 Axes>"
      ]
     },
     "metadata": {
      "needs_background": "light"
     },
     "output_type": "display_data"
    },
    {
     "data": {
      "image/png": "[encoded data removed]",
      "text/plain": [
       "<Figure size 432x288 with 1 Axes>"
      ]
     },
     "metadata": {
      "needs_background": "light"
     },
     "output_type": "display_data"
    }
   ],
   "source": [
    "# Plot the accuracy values of training and testing sets\n",
    "plt.plot(history_resnet_model.history['accuracy'])\n",
    "plt.plot(history_resnet_model.history['val_accuracy'])\n",
    "plt.title('Model accuracy')\n",
    "plt.ylabel('Accuracy')\n",
    "plt.xlabel('Epoch')\n",
    "plt.legend(['Train', 'Test'], loc='upper left')\n",
    "plt.show()\n",
    "\n",
    "# Plot the loss values for training and testing sets\n",
    "plt.plot(history_resnet_model.history['loss']) \n",
    "plt.plot(history_resnet_model.history['val_loss'])\n",
    "plt.title('Model loss')\n",
    "plt.ylabel('Loss')\n",
    "plt.xlabel('Epoch')\n",
    "plt.legend(['Train', 'Valid'], loc='upper left')\n",
    "plt.show()"
   ]
  },
  {
   "cell_type": "markdown",
   "id": "sC6rvV-lcu8s",
   "metadata": {
    "id": "sC6rvV-lcu8s"
   },
   "source": [
    "### 3.3 Mirrored Strategy with ResNet"
   ]
  },
  {
   "cell_type": "code",
   "execution_count": 32,
   "id": "b892f0f1",
   "metadata": {
    "id": "b892f0f1"
   },
   "outputs": [],
   "source": [
    "# Training hyper-parameters\n",
    "batch_size = 32\n",
    "epochs = 10\n",
    "data_augmentation = True"
   ]
  },
  {
   "cell_type": "code",
   "execution_count": 33,
   "id": "Lyi0MydwVuEp",
   "metadata": {
    "colab": {
     "base_uri": "https://localhost:8080/"
    },
    "id": "Lyi0MydwVuEp",
    "outputId": "03a601ef-87ec-4a80-f638-840c3a78b6c2"
   },
   "outputs": [
    {
     "name": "stdout",
     "output_type": "stream",
     "text": [
      "INFO:tensorflow:Using MirroredStrategy with devices ('/job:localhost/replica:0/task:0/device:GPU:0',)\n"
     ]
    }
   ],
   "source": [
    "K.clear_session()\n",
    "\n",
    "strategyr2 = tf.distribute.MirroredStrategy(devices = devices_names[:2])\n",
    "with strategyr2.scope():\n",
    "    resnet_model = Sequential()\n",
    "    pretrained_model = tf.keras.applications.ResNet50(# Let try ResNet101\n",
    "                        include_top = False,\n",
    "                        input_shape = x_train_3.shape[1:],\n",
    "                        pooling = 'max',\n",
    "                        classes = 2,\n",
    "                        weights = 'imagenet')\n",
    "\n",
    "    resnet_model.add(pretrained_model)\n",
    "    resnet_model.add(Flatten())\n",
    "    resnet_model.add(Dense(512, activation = 'relu'))\n",
    "    resnet_model.add(Dense(1, activation = 'sigmoid'))\n",
    "    resnet_model.compile(optimizer = Adam(learning_rate = 0.00001), loss = 'binary_crossentropy', metrics = ['accuracy'])"
   ]
  },
  {
   "cell_type": "code",
   "execution_count": 34,
   "id": "6n6Qn6qfVuGl",
   "metadata": {
    "colab": {
     "base_uri": "https://localhost:8080/"
    },
    "id": "6n6Qn6qfVuGl",
    "outputId": "5be12cd1-3f20-4a4d-e2c8-3a08bf4ef55a"
   },
   "outputs": [
    {
     "name": "stdout",
     "output_type": "stream",
     "text": [
      "Using real-time data augmentation.\n",
      "Epoch 1/10\n",
      "163/163 [==============================] - ETA: 0s - loss: 0.4386 - accuracy: 0.8600WARNING:tensorflow:Keras is training/fitting/evaluating on array-like data. Keras may not be optimized for this format, so if your input data format is supported by TensorFlow I/O (https://github.com/tensorflow/io) we recommend using that to load a Dataset instead.\n",
      "163/163 [==============================] - 72s 336ms/step - loss: 0.4386 - accuracy: 0.8600 - val_loss: 19.3793 - val_accuracy: 0.6250\n",
      "Epoch 2/10\n",
      "163/163 [==============================] - 52s 317ms/step - loss: 0.1784 - accuracy: 0.9385 - val_loss: 62.7201 - val_accuracy: 0.6250\n",
      "Epoch 3/10\n",
      "163/163 [==============================] - 52s 318ms/step - loss: 0.1614 - accuracy: 0.9484 - val_loss: 41.5706 - val_accuracy: 0.6250\n",
      "Epoch 4/10\n",
      "163/163 [==============================] - 52s 318ms/step - loss: 0.1197 - accuracy: 0.9592 - val_loss: 5.9509 - val_accuracy: 0.6090\n",
      "Epoch 5/10\n",
      "163/163 [==============================] - 52s 317ms/step - loss: 0.1083 - accuracy: 0.9617 - val_loss: 1.9383 - val_accuracy: 0.6362\n",
      "Epoch 6/10\n",
      "163/163 [==============================] - 52s 319ms/step - loss: 0.0811 - accuracy: 0.9732 - val_loss: 2.7592 - val_accuracy: 0.6266\n",
      "Epoch 7/10\n",
      "163/163 [==============================] - 52s 318ms/step - loss: 0.0872 - accuracy: 0.9689 - val_loss: 2.4062 - val_accuracy: 0.6330\n",
      "Epoch 8/10\n",
      "163/163 [==============================] - 52s 318ms/step - loss: 0.0767 - accuracy: 0.9734 - val_loss: 2.5037 - val_accuracy: 0.6378\n",
      "Epoch 9/10\n",
      "163/163 [==============================] - 52s 317ms/step - loss: 0.0746 - accuracy: 0.9732 - val_loss: 2.1489 - val_accuracy: 0.6506\n",
      "Epoch 10/10\n",
      "163/163 [==============================] - 52s 318ms/step - loss: 0.0655 - accuracy: 0.9762 - val_loss: 1.8786 - val_accuracy: 0.6827\n",
      "The elapsed time for the parallelized code when using two GPU is: 549.2258098125458\n"
     ]
    }
   ],
   "source": [
    "start2_ResNet = time.time()\n",
    "# Run training, with or without data augmentation.\n",
    "if not data_augmentation:\n",
    "    print('Not using data augmentation.')\n",
    "    # Zifeng Edited\n",
    "    history_resnet_model = resnet_model.fit(x_train_3, y_train,\n",
    "              batch_size=batch_size,\n",
    "              epochs=epochs,\n",
    "              validation_data=(x_test_3, y_test),\n",
    "              shuffle=True)\n",
    "else:\n",
    "    print('Using real-time data augmentation.')\n",
    "    # This will do preprocessing and realtime data augmentation:\n",
    "    datagen = ImageDataGenerator(\n",
    "        # set input mean to 0 over the dataset\n",
    "        featurewise_center=False,\n",
    "        # set each sample mean to 0\n",
    "        samplewise_center=False,\n",
    "        # divide inputs by std of dataset\n",
    "        featurewise_std_normalization=False,\n",
    "        # divide each input by its std\n",
    "        samplewise_std_normalization=False,\n",
    "        # apply ZCA whitening\n",
    "        zca_whitening=False,\n",
    "        # epsilon for ZCA whitening\n",
    "        zca_epsilon=1e-06,\n",
    "        # randomly rotate images in the range (deg 0 to 180)\n",
    "        rotation_range=0,\n",
    "        # randomly shift images horizontally\n",
    "        width_shift_range=0.1,\n",
    "        # randomly shift images vertically\n",
    "        height_shift_range=0.1,\n",
    "        # set range for random shear\n",
    "        shear_range=0.,\n",
    "        # set range for random zoom\n",
    "        zoom_range=0.,\n",
    "        # set range for random channel shifts\n",
    "        channel_shift_range=0.,\n",
    "        # set mode for filling points outside the input boundaries\n",
    "        fill_mode='nearest',\n",
    "        # value used for fill_mode = \"constant\"\n",
    "        cval=0.,\n",
    "        # randomly flip images\n",
    "        horizontal_flip=True,\n",
    "        # randomly flip images\n",
    "        vertical_flip=False,\n",
    "        # set rescaling factor (applied before any other transformation)\n",
    "        rescale=None,\n",
    "        # set function that will be applied on each input\n",
    "        preprocessing_function=None,\n",
    "        # image data format, either \"channels_first\" or \"channels_last\"\n",
    "        data_format=None,\n",
    "        # fraction of images reserved for validation (strictly between 0 and 1)\n",
    "        validation_split=0.0)\n",
    "\n",
    "    # Compute quantities required for featurewise normalization\n",
    "    # (std, mean, and principal components if ZCA whitening is applied).\n",
    "    datagen.fit(x_train_3)\n",
    "\n",
    "    # Fit the model on the batches generated by datagen.flow().\n",
    "    # Zifeng Edited\n",
    "    history_resnet_model = resnet_model.fit(datagen.flow(x_train_3, train_labels, batch_size=batch_size),\n",
    "                        validation_data=(x_test_3, test_labels),\n",
    "                        epochs=epochs, verbose=1, workers=10)\n",
    "\n",
    "end2_ResNet = time.time()\n",
    "tr2 = end2_ResNet - start2_ResNet\n",
    "print(\"The elapsed time for the parallelized code when using two GPU is:\",tr2)"
   ]
  },
  {
   "cell_type": "code",
   "execution_count": null,
   "id": "MUXy8vGZmNUP",
   "metadata": {
    "id": "MUXy8vGZmNUP"
   },
   "outputs": [],
   "source": []
  }
 ],
 "metadata": {
  "accelerator": "GPU",
  "colab": {
   "collapsed_sections": [],
   "name": "Final_Project_Zifeng_Jiang.ipynb",
   "provenance": []
  },
  "kernelspec": {
   "display_name": "Python 3",
   "language": "python",
   "name": "python3"
  },
  "language_info": {
   "codemirror_mode": {
    "name": "ipython",
    "version": 3
   },
   "file_extension": ".py",
   "mimetype": "text/x-python",
   "name": "python",
   "nbconvert_exporter": "python",
   "pygments_lexer": "ipython3",
   "version": "3.8.8"
  }
 },
 "nbformat": 4,
 "nbformat_minor": 5
}
